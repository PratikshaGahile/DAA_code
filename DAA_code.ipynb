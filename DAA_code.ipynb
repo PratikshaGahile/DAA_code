{
  "nbformat": 4,
  "nbformat_minor": 0,
  "metadata": {
    "colab": {
      "provenance": []
    },
    "kernelspec": {
      "name": "python3",
      "display_name": "Python 3"
    },
    "language_info": {
      "name": "python"
    }
  },
  "cells": [
    {
      "cell_type": "code",
      "source": [
        "# Assignmnet Number 1\n",
        "# Fibbonacci Series and its step count\n",
        "def calculate_fibonacci(index):\n",
        "    if index <= 0:\n",
        "        return 0\n",
        "    elif index == 1:\n",
        "        return 1\n",
        "    else:\n",
        "        a, b = 0, 1\n",
        "        for _ in range(2, index + 1):\n",
        "            a, b = b, a + b\n",
        "        return b\n",
        "\n",
        "def fibonacci_series(index):\n",
        "    if index <= 0:\n",
        "        return [0]\n",
        "    elif index == 1:\n",
        "        return [0, 1]\n",
        "    else:\n",
        "        series = [0, 1]\n",
        "        while series[-1] + series[-2] <= calculate_fibonacci(index):\n",
        "            series.append(series[-1] + series[-2])\n",
        "        return series\n",
        "\n",
        "def main():\n",
        "    try:\n",
        "        index = int(input(\"Enter the index to calculate Fibonacci: \"))\n",
        "        if index < 0:\n",
        "            print(\"Index should be a non-negative integer.\")\n",
        "            return\n",
        "\n",
        "        fib_number = calculate_fibonacci(index)\n",
        "        fib_series = fibonacci_series(index)\n",
        "\n",
        "        print(f\"Fibonacci number at index {index}: {fib_number}\")\n",
        "        print(f\"Fibonacci series up to index {index}: {fib_series}\")\n",
        "        print(f\"Step count: {len(fib_series) - 2}\")  # Subtract 2 to exclude 0 and 1\n",
        "    except ValueError:\n",
        "        print(\"Invalid input. Please enter a valid non-negative integer.\")\n",
        "\n",
        "if __name__ == \"__main__\":\n",
        "    main()"
      ],
      "metadata": {
        "colab": {
          "base_uri": "https://localhost:8080/"
        },
        "id": "rqc2rl1ATlKX",
        "outputId": "b448ab71-0c2d-461b-b585-2e3d42f8876f"
      },
      "execution_count": 16,
      "outputs": [
        {
          "output_type": "stream",
          "name": "stdout",
          "text": [
            "Enter the index to calculate Fibonacci: 6\n",
            "Fibonacci number at index 6: 8\n",
            "Fibonacci series up to index 6: [0, 1, 1, 2, 3, 5, 8]\n",
            "Step count: 5\n"
          ]
        }
      ]
    },
    {
      "cell_type": "code",
      "source": [
        "#Assignment Number : 2\n",
        "# Job Sequencing with deadline using the greedy method\n",
        "\n",
        "def job_sequencing_with_deadline(jobs):\n",
        "    jobs.sort(key=lambda x: x[2], reverse=True)  # Sort jobs by profit in descending order\n",
        "    max_deadline = max(jobs, key=lambda x: x[1])[1]\n",
        "    schedule = [-1] * (max_deadline + 1)\n",
        "\n",
        "    for job in jobs:\n",
        "        deadline = job[1]\n",
        "        while deadline > 0 and schedule[deadline] != -1:\n",
        "            deadline -= 1\n",
        "        if deadline > 0:\n",
        "            schedule[deadline] = job[0]\n",
        "\n",
        "    return [job for job in schedule if job != -1]\n",
        "\n",
        "if __name__ == \"__main__\":\n",
        "    num_jobs = int(input(\"Enter the number of jobs: \"))\n",
        "\n",
        "    jobs = []\n",
        "    for i in range(num_jobs):\n",
        "        job_id = input(f\"Enter Job ID for Job {i+1}: \")\n",
        "        deadline = int(input(f\"Enter Deadline for Job {i+1}: \"))\n",
        "        profit = int(input(f\"Enter Profit for Job {i+1}: \"))\n",
        "        jobs.append((job_id, deadline, profit))\n",
        "\n",
        "    selected_jobs = job_sequencing_with_deadline(jobs)\n",
        "\n",
        "    print(\"\\nSelected jobs for scheduling:\")\n",
        "    for job_id in selected_jobs:\n",
        "        print(f\"Job {job_id}\")\n"
      ],
      "metadata": {
        "colab": {
          "base_uri": "https://localhost:8080/"
        },
        "id": "TZfs7lCWUaZV",
        "outputId": "2c389746-c699-4482-a7a5-24742d4d6df3"
      },
      "execution_count": 18,
      "outputs": [
        {
          "output_type": "stream",
          "name": "stdout",
          "text": [
            "Enter the number of jobs: 4\n",
            "Enter Job ID for Job 1: j1\n",
            "Enter Deadline for Job 1: 2\n",
            "Enter Profit for Job 1: 50\n",
            "Enter Job ID for Job 2: j2\n",
            "Enter Deadline for Job 2: 1\n",
            "Enter Profit for Job 2: 15\n",
            "Enter Job ID for Job 3: j3\n",
            "Enter Deadline for Job 3: 2\n",
            "Enter Profit for Job 3: 10\n",
            "Enter Job ID for Job 4: j4\n",
            "Enter Deadline for Job 4: 1\n",
            "Enter Profit for Job 4: 25\n",
            "\n",
            "Selected jobs for scheduling:\n",
            "Job j4\n",
            "Job j1\n"
          ]
        }
      ]
    },
    {
      "cell_type": "code",
      "source": [
        "\n",
        "# Assignment numer 3\n",
        "# Huffman encodding using the greedy method\n",
        "import heapq\n",
        "from collections import defaultdict\n",
        "\n",
        "class HuffmanNode:\n",
        "    def __init__(self, char, freq):\n",
        "        self.char = char\n",
        "        self.freq = freq\n",
        "        self.left = None\n",
        "        self.right = None\n",
        "\n",
        "    def __lt__(self, other):\n",
        "        return self.freq < other.freq\n",
        "\n",
        "def build_huffman_tree(freq_map):\n",
        "    # Create the list of the heap which store the value\n",
        "    heap = [HuffmanNode(char, freq) for char, freq in freq_map.items()]\n",
        "\n",
        "    heapq.heapify(heap)\n",
        "\n",
        "    while len(heap) > 1:\n",
        "        left = heapq.heappop(heap)\n",
        "        right = heapq.heappop(heap)\n",
        "\n",
        "        internal_node = HuffmanNode(None, left.freq + right.freq)\n",
        "        internal_node.left = left\n",
        "        internal_node.right = right\n",
        "\n",
        "        heapq.heappush(heap, internal_node)\n",
        "\n",
        "    return heap[0]\n",
        "\n",
        "# generate the huffman code for the particular Char\n",
        "def huffman_codes(root, current_code, result):\n",
        "    if root is None:\n",
        "        return\n",
        "\n",
        "    if root.char is not None:\n",
        "        result[root.char] = current_code\n",
        "\n",
        "    huffman_codes(root.left, current_code + '0', result)\n",
        "    huffman_codes(root.right, current_code + '1', result)\n",
        "\n",
        "def generate_huffman_codes(characters, frequencies):\n",
        "    if len(characters) != len(frequencies):\n",
        "        return None\n",
        "\n",
        "    freq_map = {char: freq for char, freq in zip(characters, frequencies)}\n",
        "\n",
        "    root = build_huffman_tree(freq_map)\n",
        "    huffman_map = {}\n",
        "    huffman_codes(root, '', huffman_map)\n",
        "\n",
        "    return huffman_map\n",
        "\n",
        "if __name__ == \"__main__\":\n",
        "    characters = ['a', 'b', 'c', 'd', 'e','f','g']\n",
        "    frequencies = [45, 13, 12, 16, 9,50,0]\n",
        "\n",
        "    huffman_codes = generate_huffman_codes(characters, frequencies)\n",
        "\n",
        "    if huffman_codes:\n",
        "        print(\"Character Huffman Codes:\")\n",
        "        for char, code in huffman_codes.items():\n",
        "            print(f\"{char}: {code}\")\n",
        "    else:\n",
        "        print(\"Invalid input: characters and frequencies lists must have the same length.\")\n"
      ],
      "metadata": {
        "colab": {
          "base_uri": "https://localhost:8080/"
        },
        "id": "eOhdwP67SHLP",
        "outputId": "7cfe1b16-0b59-493f-bb89-8ba1c86a2781"
      },
      "execution_count": 15,
      "outputs": [
        {
          "output_type": "stream",
          "name": "stdout",
          "text": [
            "Character Huffman Codes:\n",
            "g: 0000\n",
            "e: 0001\n",
            "c: 001\n",
            "b: 010\n",
            "d: 011\n",
            "a: 10\n",
            "f: 11\n"
          ]
        }
      ]
    },
    {
      "cell_type": "code",
      "source": [
        "# ASSIGNMENT  NO : 4\n",
        "#Fractional Knapsack Problem using the greedy method\n",
        "\n",
        "def fractional_knapsack(objects, total_capacity):\n",
        "    # Calculate the value-to-weight ratio for each object\n",
        "    value_per_weight = [(obj[0], obj[1], obj[2], obj[2] / obj[1]) for obj in objects]\n",
        "\n",
        "    # Sort the objects by the value-to-weight ratio in descending order\n",
        "    value_per_weight.sort(key=lambda x: x[3], reverse=True)\n",
        "\n",
        "    max_profit = 0  # Maximum profit obtained\n",
        "    knapsack = []   # List to store the selected objects\n",
        "\n",
        "    for obj in value_per_weight:\n",
        "        name, weight, value, ratio = obj\n",
        "\n",
        "        if total_capacity >= weight:\n",
        "            max_profit += value\n",
        "            total_capacity -= weight\n",
        "            knapsack.append((name, weight))\n",
        "        else:\n",
        "            fraction = total_capacity / weight\n",
        "            max_profit += fraction * value\n",
        "            knapsack.append((name, fraction * weight))\n",
        "            break\n",
        "\n",
        "    return max_profit, knapsack\n",
        "\n",
        "def main():\n",
        "    n = int(input(\"Enter the number of objects: \"))\n",
        "    objects = []\n",
        "    for i in range(n):\n",
        "        name = input(f\"Enter the name of object {i+1}: \")\n",
        "        weight = float(input(f\"Enter the weight of object {i+1}: \"))\n",
        "        value = float(input(f\"Enter the value of object {i+1}: \"))\n",
        "        objects.append((name, weight, value))\n",
        "\n",
        "    total_capacity = float(input(\"Enter the total knapsack capacity: \"))\n",
        "\n",
        "    max_profit, knapsack = fractional_knapsack(objects, total_capacity)\n",
        "\n",
        "    print(\"Maximum profit:\", max_profit)\n",
        "    print(\"Objects added to the bag:\")\n",
        "    for name, weight in knapsack:\n",
        "        print(f\"{name} - {weight} units\")\n",
        "\n",
        "if __name__ == \"__main__\":\n",
        "    main()\n"
      ],
      "metadata": {
        "colab": {
          "base_uri": "https://localhost:8080/"
        },
        "id": "SjaRTxRbNyAp",
        "outputId": "fd9bb44a-797f-4081-cfcf-bbb642fe54b2"
      },
      "execution_count": 7,
      "outputs": [
        {
          "output_type": "stream",
          "name": "stdout",
          "text": [
            "Enter the number of objects: 3\n",
            "Enter the name of object 1: o1\n",
            "Enter the weight of object 1: 25\n",
            "Enter the value of object 1: 18\n",
            "Enter the name of object 2: o2\n",
            "Enter the weight of object 2: 24\n",
            "Enter the value of object 2: 15\n",
            "Enter the name of object 3: o3\n",
            "Enter the weight of object 3: 15\n",
            "Enter the value of object 3: 10\n",
            "Enter the total knapsack capacity: 20\n",
            "Maximum profit: 14.4\n",
            "Objects added to the bag:\n",
            "o1 - 20.0 units\n"
          ]
        }
      ]
    },
    {
      "cell_type": "code",
      "source": [],
      "metadata": {
        "id": "sM0RyN5OTiYK"
      },
      "execution_count": null,
      "outputs": []
    },
    {
      "cell_type": "code",
      "source": [
        "#Assignment Number 5\n",
        "#KnapSack Problem 0 1 branch and bound\n",
        "\n",
        "def knapsack(items, total_capacity):\n",
        "    n = len(items)\n",
        "    dp = [[0 for _ in range(total_capacity + 1)] for _ in range(n + 1)]\n",
        "\n",
        "    for i in range(1, n + 1):\n",
        "        for w in range(total_capacity + 1):\n",
        "            weight, value, name = items[i - 1]\n",
        "            if weight <= w:\n",
        "                dp[i][w] = max(dp[i - 1][w], dp[i - 1][w - weight] + value)\n",
        "            else:\n",
        "                dp[i][w] = dp[i - 1][w]\n",
        "\n",
        "    selected_objects = []\n",
        "    i, w = n, total_capacity\n",
        "    while i > 0 and w > 0:\n",
        "        if dp[i][w] != dp[i - 1][w]:\n",
        "            weight, _, name = items[i - 1]\n",
        "            selected_objects.append(name)\n",
        "            w -= weight\n",
        "        i -= 1\n",
        "\n",
        "    return dp[n][total_capacity], selected_objects\n",
        "\n",
        "if __name__ == \"__main__\":\n",
        "    n = int(input(\"Enter the number of objects: \"))\n",
        "    items = []\n",
        "    for i in range(n):\n",
        "        name = input(f\"Enter the name of object {i + 1}: \")\n",
        "        value = int(input(f\"Enter the value of object {i + 1}: \"))\n",
        "        weight = int(input(f\"Enter the weight of object {i + 1}: \"))\n",
        "        items.append((weight, value, name))\n",
        "\n",
        "    total_capacity = int(input(\"Enter the total knapsack capacity: \"))\n",
        "\n",
        "    max_value, selected_objects = knapsack(items, total_capacity)\n",
        "\n",
        "    print(\"Maximum value for\", total_capacity, \"weight is\", max_value)\n",
        "    print(\"Objects added to the knapsack:\")\n",
        "    for obj in selected_objects:\n",
        "        print(obj)"
      ],
      "metadata": {
        "colab": {
          "base_uri": "https://localhost:8080/"
        },
        "id": "vrPvaLbzQsXz",
        "outputId": "52efe93e-3e70-43b1-dcce-1316a162da26"
      },
      "execution_count": 10,
      "outputs": [
        {
          "output_type": "stream",
          "name": "stdout",
          "text": [
            "Enter the number of objects: 3\n",
            "Enter the name of object 1: o1\n",
            "Enter the value of object 1: 25\n",
            "Enter the weight of object 1: 18\n",
            "Enter the name of object 2: o2\n",
            "Enter the value of object 2: 24\n",
            "Enter the weight of object 2: 15\n",
            "Enter the name of object 3: o3\n",
            "Enter the value of object 3: 15\n",
            "Enter the weight of object 3: 10\n",
            "Enter the total knapsack capacity: 20\n",
            "Maximum value for 20 weight is 25\n",
            "Objects added to the knapsack:\n",
            "o1\n"
          ]
        }
      ]
    },
    {
      "cell_type": "code",
      "source": [
        "#ASSIGNMENT NUMNER : 6\n",
        "#8 -Queen problem  using the backtracking\n",
        "def is_safe(board, row, col):\n",
        "    # Check if there is a Queen in the same column\n",
        "    for i in range(row):\n",
        "        if board[i][col] == \"Q\":\n",
        "            return False\n",
        "\n",
        "    # Check upper-left diagonal\n",
        "    for i, j in zip(range(row, -1, -1), range(col, -1, -1)):\n",
        "        if board[i][j] == \"Q\":\n",
        "            return False\n",
        "\n",
        "    # Check upper-right diagonal\n",
        "    for i, j in zip(range(row, -1, -1), range(col, len(board))):\n",
        "        if board[i][j] == \"Q\":\n",
        "            return False\n",
        "\n",
        "    return True\n",
        "\n",
        "def solve_n_queens(n):\n",
        "    def backtrack(row):\n",
        "        if row == n:\n",
        "            solutions.append([\"\".join(row) for row in board])\n",
        "            return\n",
        "\n",
        "        for col in range(n):\n",
        "            if is_safe(board, row, col):\n",
        "                board[row][col] = \"Q\"\n",
        "                backtrack(row + 1)\n",
        "                board[row][col] = \".\"\n",
        "\n",
        "    solutions = []\n",
        "    board = [[\".\" for _ in range(n)] for _ in range(n)]\n",
        "    backtrack(0)\n",
        "    return solutions\n",
        "\n",
        "def print_solutions(solutions):\n",
        "    for solution in solutions:\n",
        "        for row in solution:\n",
        "            print(row)\n",
        "        print()\n",
        "\n",
        "if __name__ == \"__main__\":\n",
        "    n = int(input(\"Enter the size of the chessboard: \"))\n",
        "    solutions = solve_n_queens(n)\n",
        "\n",
        "    if solutions:\n",
        "        print(\"Solutions to the N-Queens puzzle:\")\n",
        "        print_solutions(solutions)\n",
        "    else:\n",
        "        print(\"No solutions found.\")\n"
      ],
      "metadata": {
        "colab": {
          "base_uri": "https://localhost:8080/"
        },
        "id": "Uv40qjfUSJL_",
        "outputId": "a31dd849-90b4-4c39-85da-51d31fd2568e"
      },
      "execution_count": 11,
      "outputs": [
        {
          "output_type": "stream",
          "name": "stdout",
          "text": [
            "Enter the size of the chessboard: 4\n",
            "Solutions to the N-Queens puzzle:\n",
            ".Q..\n",
            "...Q\n",
            "Q...\n",
            "..Q.\n",
            "\n",
            "..Q.\n",
            "Q...\n",
            "...Q\n",
            ".Q..\n",
            "\n"
          ]
        }
      ]
    },
    {
      "cell_type": "code",
      "source": [
        "#ASSIGNMENT NUMBER : 7\n",
        "#Quicksort by using the  determinstic\n",
        "def deterministic_quicksort(arr):\n",
        "    if len(arr) <= 1:\n",
        "        return arr  # Base case: if the array has one element or is empty, return it as it's already sorted.\n",
        "\n",
        "    pivot = choose_pivot(arr)  # Choose a pivot using a deterministic method.\n",
        "    less, equal, greater = partition(arr, pivot)  # Partition the array into three parts: less than, equal to, and greater than the pivot.\n",
        "\n",
        "    sorted_less = deterministic_quicksort(less)  # Recursively sort the \"less than\" part.\n",
        "    sorted_greater = deterministic_quicksort(greater)  # Recursively sort the \"greater than\" part.\n",
        "\n",
        "    return sorted_less + equal + sorted_greater  # Combine the three parts to get the final sorted array.\n",
        "\n",
        "def choose_pivot(arr):\n",
        "    # Choose the pivot as the median of the first, middle, and last elements.\n",
        "    first, middle, last = arr[0], arr[len(arr) // 2], arr[-1]\n",
        "    median = sorted([first, middle, last])[1]  # Find the median value.\n",
        "    return median\n",
        "\n",
        "def partition(arr, pivot):\n",
        "    less, equal, greater = [], [], []\n",
        "\n",
        "    for element in arr:\n",
        "        if element < pivot:\n",
        "            less.append(element)\n",
        "        elif element == pivot:\n",
        "            equal.append(element)\n",
        "        else:\n",
        "            greater.append(element)\n",
        "\n",
        "    return less, equal, greater\n",
        "\n",
        "if __name__ == \"__main__\":\n",
        "    user_input = input(\"Enter a list of numbers separated by spaces: \")\n",
        "    input_list = [int(x) for x in user_input.split()]\n",
        "\n",
        "    sorted_list = deterministic_quicksort(input_list)\n",
        "\n",
        "    print(\"Sorted list: \", sorted_list)\n"
      ],
      "metadata": {
        "colab": {
          "base_uri": "https://localhost:8080/"
        },
        "id": "Y-0tbCLPScpQ",
        "outputId": "88892faa-4bf8-43c9-a3ce-ba964a32e921"
      },
      "execution_count": 13,
      "outputs": [
        {
          "output_type": "stream",
          "name": "stdout",
          "text": [
            "Enter a list of numbers separated by spaces: 3 4 6 1 9 21 7 9 \n",
            "Sorted list:  [1, 3, 4, 6, 7, 9, 9, 21]\n"
          ]
        }
      ]
    },
    {
      "cell_type": "code",
      "source": [
        "# Assignmnet number 7\n",
        "# Quick sort by using the randomized varient\n",
        "\n",
        "def quicksort(arr):\n",
        "    if len(arr) <= 1:\n",
        "        return arr\n",
        "    else:\n",
        "        pivot = arr[0]\n",
        "        less = [x for x in arr[1:] if x <= pivot]\n",
        "        greater = [x for x in arr[1:] if x > pivot]\n",
        "        return quicksort(less) + [pivot] + quicksort(greater)\n",
        "\n",
        "if __name__ == \"__main__\":\n",
        "    user_input = input(\"Enter a list of numbers separated by spaces: \")\n",
        "    input_list = [int(x) for x in user_input.split()]\n",
        "\n",
        "    sorted_list = quicksort(input_list)\n",
        "\n",
        "    print(\"Sorted list: \", sorted_list)\n"
      ],
      "metadata": {
        "colab": {
          "base_uri": "https://localhost:8080/"
        },
        "id": "BvATyL4zS7g2",
        "outputId": "b7421b3a-fb2e-4792-91e9-491863413723"
      },
      "execution_count": 14,
      "outputs": [
        {
          "output_type": "stream",
          "name": "stdout",
          "text": [
            "Enter a list of numbers separated by spaces: 90 23 14 78 1 8 28 18 73\n",
            "Sorted list:  [1, 8, 14, 18, 23, 28, 73, 78, 90]\n"
          ]
        }
      ]
    }
  ]
}